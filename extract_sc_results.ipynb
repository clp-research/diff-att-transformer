{
 "cells": [
  {
   "cell_type": "code",
   "execution_count": 1,
   "metadata": {},
   "outputs": [],
   "source": [
    "datadir = \"/data/clevr_change_pre_sc/results/clevr_2\"\n",
    "modeldir = \"selfatt\"\n",
    "evalfile = \"eval_results.txt\""
   ]
  },
  {
   "cell_type": "code",
   "execution_count": 2,
   "metadata": {},
   "outputs": [],
   "source": [
    "import os\n",
    "def readf(datadir, modeldir, evalfile):\n",
    "    path = os.path.join(\".\", datadir, modeldir, evalfile)\n",
    "    with open(path) as f:\n",
    "        lines = f.readlines()\n",
    "    return lines"
   ]
  },
  {
   "cell_type": "code",
   "execution_count": 3,
   "metadata": {},
   "outputs": [],
   "source": [
    "lines = readf(datadir, modeldir, evalfile)"
   ]
  },
  {
   "cell_type": "code",
   "execution_count": 4,
   "metadata": {},
   "outputs": [],
   "source": [
    "from collections import defaultdict\n",
    "\n",
    "def get_state(line):\n",
    "    if \"COLOR\" in line:\n",
    "        return \"COLOR\"\n",
    "    if \"MATERIAL\" in line:\n",
    "        return \"MATERIAL\"\n",
    "    if \"MOVE\" in line:\n",
    "        return \"MOVE\"\n",
    "    if \"DROP\" in line:\n",
    "        return \"DROP\"\n",
    "    if \"ADD\" in line:\n",
    "        return \"ADD\"\n",
    "    return None\n",
    "\n",
    "def get_metric(line):\n",
    "    splits = line.split(\":\")\n",
    "    if len(splits) == 2:\n",
    "        return splits[0]\n",
    "\n",
    "def get_value(line):\n",
    "    splits = line.split(\":\")\n",
    "    if len(splits) == 2:\n",
    "        return splits[1]\n",
    "    \n",
    "def collect_scores(lines):\n",
    "    scores = defaultdict(dict)\n",
    "    state = None\n",
    "    for line in lines:\n",
    "        if \"non-semantic change captions only\" in line:\n",
    "            break\n",
    "        new_state = get_state(line)\n",
    "        if new_state:\n",
    "            state = new_state\n",
    "        metric = get_metric(line)\n",
    "        value = get_value(line)\n",
    "        if state and metric:\n",
    "            scores[state][metric] = value\n",
    "    return scores"
   ]
  },
  {
   "cell_type": "code",
   "execution_count": 5,
   "metadata": {},
   "outputs": [],
   "source": [
    "scores = collect_scores(lines)"
   ]
  },
  {
   "cell_type": "code",
   "execution_count": 6,
   "metadata": {},
   "outputs": [],
   "source": [
    "def print_scores(scores):\n",
    "    # Now we get the correct order\n",
    "    for metric in [\"Bleu_1\",\"Bleu_4\",\"METEOR\",\"CIDEr\",\"ROUGE_L\",\"SPICE\"]:\n",
    "        values=[]\n",
    "        for category in [\"COLOR\",\"MATERIAL\",\"MOVE\",\"DROP\",\"ADD\"]:\n",
    "            value = scores[category][metric].strip()\n",
    "            values.append(round(float(value) * 100))\n",
    "        print(\"{:>10}\".format(metric), \" \".join([str(i) for i in values]))"
   ]
  },
  {
   "cell_type": "code",
   "execution_count": 7,
   "metadata": {},
   "outputs": [
    {
     "name": "stdout",
     "output_type": "stream",
     "text": [
      "    Bleu_1 61 56 56 59 58\n",
      "    Bleu_4 26 21 25 29 29\n",
      "    METEOR 27 25 26 27 27\n",
      "     CIDEr 69 44 43 47 56\n",
      "   ROUGE_L 57 50 52 56 56\n",
      "     SPICE 19 17 18 20 18\n"
     ]
    }
   ],
   "source": [
    "print_scores(scores)"
   ]
  }
 ],
 "metadata": {
  "kernelspec": {
   "display_name": "Python 3",
   "language": "python",
   "name": "python3"
  },
  "language_info": {
   "codemirror_mode": {
    "name": "ipython",
    "version": 3
   },
   "file_extension": ".py",
   "mimetype": "text/x-python",
   "name": "python",
   "nbconvert_exporter": "python",
   "pygments_lexer": "ipython3",
   "version": "3.6.9"
  }
 },
 "nbformat": 4,
 "nbformat_minor": 2
}
