{
 "cells": [
  {
   "cell_type": "code",
   "execution_count": 3,
   "metadata": {
    "scrolled": false
   },
   "outputs": [
    {
     "data": {
      "text/plain": [
       "['val.json', 'test.json', 'train.json']"
      ]
     },
     "execution_count": 3,
     "metadata": {},
     "output_type": "execute_result"
    }
   ],
   "source": [
    "import os\n",
    "data_folder = \"/project/git/spot-the-diff/data/annotations\"\n",
    "os.listdir(data_folder)"
   ]
  },
  {
   "cell_type": "code",
   "execution_count": 4,
   "metadata": {},
   "outputs": [],
   "source": [
    "import json\n",
    "def loadf(path):\n",
    "    with open(path) as f:\n",
    "        return json.load(f)"
   ]
  },
  {
   "cell_type": "code",
   "execution_count": 6,
   "metadata": {},
   "outputs": [],
   "source": [
    "def loads(split_name, data_folder):\n",
    "    file_name = split_name + \".json\"\n",
    "    split_path = os.path.join(data_folder, file_name)\n",
    "    return loadf(split_path)"
   ]
  },
  {
   "cell_type": "code",
   "execution_count": 12,
   "metadata": {},
   "outputs": [
    {
     "name": "stdout",
     "output_type": "stream",
     "text": [
      "train 9524 17676\n",
      "val 1634 3310\n",
      "test 1404 2107\n"
     ]
    }
   ],
   "source": [
    "for split_name in [\"train\",\"val\",\"test\"]:\n",
    "    split = loads(split_name, data_folder)\n",
    "    print(split_name, len(split), sum([len(s[\"sentences\"]) for s in split]))"
   ]
  },
  {
   "cell_type": "code",
   "execution_count": 11,
   "metadata": {},
   "outputs": [
    {
     "data": {
      "text/plain": [
       "[{'img_id': '76', 'sentences': ['there are no differences']},\n",
       " {'img_id': '235',\n",
       "  'sentences': ['the person in the blue shirt from the image on the left is no longer present',\n",
       "   'the dark grey suv is gone in the photo on the right']},\n",
       " {'img_id': '243',\n",
       "  'sentences': ['the car in the upper left corner of the picture is gone',\n",
       "   'the two people in the upper part of the picture are gone',\n",
       "   'the person near ther handicapped parking place is not in the second picture',\n",
       "   'there appears to be a figure maybe man that was near handicapped parking place stnaindg near a pole in the bottom of the picture',\n",
       "   'the two people who were on th sidewalk are not in the second picture',\n",
       "   'there are two people in the seconde picture that are near the handicapped parking place']},\n",
       " {'img_id': '103',\n",
       "  'sentences': ['the blue car has moved',\n",
       "   'a person appeared in the second picture']},\n",
       " {'img_id': '32',\n",
       "  'sentences': ['the people in the image are in different places in the after image',\n",
       "   'the bicycle in the before image is not in the after image']}]"
      ]
     },
     "execution_count": 11,
     "metadata": {},
     "output_type": "execute_result"
    }
   ],
   "source": [
    "train[:5]"
   ]
  }
 ],
 "metadata": {
  "kernelspec": {
   "display_name": "Python 3",
   "language": "python",
   "name": "python3"
  },
  "language_info": {
   "codemirror_mode": {
    "name": "ipython",
    "version": 3
   },
   "file_extension": ".py",
   "mimetype": "text/x-python",
   "name": "python",
   "nbconvert_exporter": "python",
   "pygments_lexer": "ipython3",
   "version": "3.6.9"
  }
 },
 "nbformat": 4,
 "nbformat_minor": 2
}
